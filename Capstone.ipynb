{
 "cells": [
  {
   "cell_type": "markdown",
   "metadata": {},
   "source": [
    "PART 1: BUILD DATA FRAME"
   ]
  },
  {
   "cell_type": "code",
   "execution_count": 1,
   "metadata": {},
   "outputs": [],
   "source": [
    "import pandas as pd\n",
    "import numpy as np"
   ]
  },
  {
   "cell_type": "code",
   "execution_count": 2,
   "metadata": {},
   "outputs": [],
   "source": [
    "#Scraping Data from wikipedia\n",
    "import requests # library to handle requests\n",
    "from bs4 import BeautifulSoup \n",
    "\n",
    "website_url = requests.get('https://en.wikipedia.org/wiki/List_of_postal_codes_of_Canada:_M').text\n",
    "soup = BeautifulSoup(website_url,'html.parser')\n",
    "#print(soup.prettify())"
   ]
  },
  {
   "cell_type": "code",
   "execution_count": 3,
   "metadata": {},
   "outputs": [
    {
     "name": "stdout",
     "output_type": "stream",
     "text": [
      "  Postal Code           Borough                                 Neighborhood\n",
      "0         M3A        North York                                    Parkwoods\n",
      "1         M4A        North York                             Victoria Village\n",
      "2         M5A  Downtown Toronto                    Regent Park, Harbourfront\n",
      "3         M6A        North York             Lawrence Manor, Lawrence Heights\n",
      "4         M7A  Downtown Toronto  Queen's Park, Ontario Provincial Government\n"
     ]
    }
   ],
   "source": [
    "# Get table\n",
    "mytable = soup.find('table',{'class':'wikitable sortable'})\n",
    "\n",
    "# Get headings\n",
    "ths = mytable.find_all('th')\n",
    "ths\n",
    "headings = [th.text.strip() for th in ths]\n",
    "\n",
    "# Get Rows into list\n",
    "trs = mytable.find_all('tr')\n",
    "mylist=[]\n",
    "\n",
    "for tr in mytable.find_all('tr'):\n",
    "    tds = tr.find_all('td')\n",
    "    aa = [td.text.strip() for td in tds]\n",
    "    mylist.append(aa)    \n",
    "del mylist[0]\n",
    "\n",
    "# Instantiate the dataframe\n",
    "mydf = pd.DataFrame(columns=headings)\n",
    "\n",
    "# Fill data frame\n",
    "for l in mylist:\n",
    "    pc=l[0]\n",
    "    bor=l[1]\n",
    "    neigh=l[2]\n",
    "    \n",
    "    mydf = mydf.append({'Postal Code': pc,\n",
    "                            'Borough': bor,\n",
    "                            'Neighborhood': neigh        \n",
    "                            }, ignore_index=True)\n",
    "\n",
    "# Clean Data\n",
    "mydf.replace('Not assigned', np.nan, inplace = True)\n",
    "mydf.dropna(subset = [\"Borough\"],inplace = True)\n",
    "mydf.reset_index(inplace = True)\n",
    "mydf.drop(['index'], axis=1, inplace = True)\n",
    "print(mydf.head())"
   ]
  },
  {
   "cell_type": "code",
   "execution_count": 4,
   "metadata": {},
   "outputs": [],
   "source": [
    "#mydf.loc[mydf['Postal Code'] == 'M9V']"
   ]
  },
  {
   "cell_type": "code",
   "execution_count": 5,
   "metadata": {},
   "outputs": [
    {
     "name": "stdout",
     "output_type": "stream",
     "text": [
      "Number of Rows: 103\n"
     ]
    }
   ],
   "source": [
    "print('Number of Rows: {}'.format(mydf.shape[0]))"
   ]
  },
  {
   "cell_type": "markdown",
   "metadata": {},
   "source": [
    "PART 2: DATA FRAME WITH LATITUDE AND LONGITUDE COORDINATES"
   ]
  },
  {
   "cell_type": "code",
   "execution_count": 16,
   "metadata": {},
   "outputs": [],
   "source": [
    "# Import csv file with Postal code Coordinates\n",
    "url = 'https://cocl.us/Geospatial_data/Geospatial_Coordinates.csv'\n",
    "postalCodeCoordinates = pd.read_csv(url,',')\n",
    "\n",
    "# Merge both data\n",
    "myDfFull = pd.merge(mydf, postalCodeCoordinates, on=['Postal Code'])"
   ]
  },
  {
   "cell_type": "code",
   "execution_count": 24,
   "metadata": {},
   "outputs": [
    {
     "data": {
      "text/html": [
       "<div>\n",
       "<style scoped>\n",
       "    .dataframe tbody tr th:only-of-type {\n",
       "        vertical-align: middle;\n",
       "    }\n",
       "\n",
       "    .dataframe tbody tr th {\n",
       "        vertical-align: top;\n",
       "    }\n",
       "\n",
       "    .dataframe thead th {\n",
       "        text-align: right;\n",
       "    }\n",
       "</style>\n",
       "<table border=\"1\" class=\"dataframe\">\n",
       "  <thead>\n",
       "    <tr style=\"text-align: right;\">\n",
       "      <th></th>\n",
       "      <th>Postal Code</th>\n",
       "      <th>Borough</th>\n",
       "      <th>Neighborhood</th>\n",
       "      <th>Latitude</th>\n",
       "      <th>Longitude</th>\n",
       "    </tr>\n",
       "  </thead>\n",
       "  <tbody>\n",
       "    <tr>\n",
       "      <th>0</th>\n",
       "      <td>M3A</td>\n",
       "      <td>North York</td>\n",
       "      <td>Parkwoods</td>\n",
       "      <td>43.753259</td>\n",
       "      <td>-79.329656</td>\n",
       "    </tr>\n",
       "    <tr>\n",
       "      <th>1</th>\n",
       "      <td>M4A</td>\n",
       "      <td>North York</td>\n",
       "      <td>Victoria Village</td>\n",
       "      <td>43.725882</td>\n",
       "      <td>-79.315572</td>\n",
       "    </tr>\n",
       "    <tr>\n",
       "      <th>2</th>\n",
       "      <td>M5A</td>\n",
       "      <td>Downtown Toronto</td>\n",
       "      <td>Regent Park, Harbourfront</td>\n",
       "      <td>43.654260</td>\n",
       "      <td>-79.360636</td>\n",
       "    </tr>\n",
       "    <tr>\n",
       "      <th>3</th>\n",
       "      <td>M6A</td>\n",
       "      <td>North York</td>\n",
       "      <td>Lawrence Manor, Lawrence Heights</td>\n",
       "      <td>43.718518</td>\n",
       "      <td>-79.464763</td>\n",
       "    </tr>\n",
       "    <tr>\n",
       "      <th>4</th>\n",
       "      <td>M7A</td>\n",
       "      <td>Downtown Toronto</td>\n",
       "      <td>Queen's Park, Ontario Provincial Government</td>\n",
       "      <td>43.662301</td>\n",
       "      <td>-79.389494</td>\n",
       "    </tr>\n",
       "    <tr>\n",
       "      <th>5</th>\n",
       "      <td>M9A</td>\n",
       "      <td>Etobicoke</td>\n",
       "      <td>Islington Avenue, Humber Valley Village</td>\n",
       "      <td>43.667856</td>\n",
       "      <td>-79.532242</td>\n",
       "    </tr>\n",
       "    <tr>\n",
       "      <th>6</th>\n",
       "      <td>M1B</td>\n",
       "      <td>Scarborough</td>\n",
       "      <td>Malvern, Rouge</td>\n",
       "      <td>43.806686</td>\n",
       "      <td>-79.194353</td>\n",
       "    </tr>\n",
       "    <tr>\n",
       "      <th>7</th>\n",
       "      <td>M3B</td>\n",
       "      <td>North York</td>\n",
       "      <td>Don Mills</td>\n",
       "      <td>43.745906</td>\n",
       "      <td>-79.352188</td>\n",
       "    </tr>\n",
       "    <tr>\n",
       "      <th>8</th>\n",
       "      <td>M4B</td>\n",
       "      <td>East York</td>\n",
       "      <td>Parkview Hill, Woodbine Gardens</td>\n",
       "      <td>43.706397</td>\n",
       "      <td>-79.309937</td>\n",
       "    </tr>\n",
       "    <tr>\n",
       "      <th>9</th>\n",
       "      <td>M5B</td>\n",
       "      <td>Downtown Toronto</td>\n",
       "      <td>Garden District, Ryerson</td>\n",
       "      <td>43.657162</td>\n",
       "      <td>-79.378937</td>\n",
       "    </tr>\n",
       "    <tr>\n",
       "      <th>10</th>\n",
       "      <td>M6B</td>\n",
       "      <td>North York</td>\n",
       "      <td>Glencairn</td>\n",
       "      <td>43.709577</td>\n",
       "      <td>-79.445073</td>\n",
       "    </tr>\n",
       "  </tbody>\n",
       "</table>\n",
       "</div>"
      ],
      "text/plain": [
       "   Postal Code           Borough                                 Neighborhood  \\\n",
       "0          M3A        North York                                    Parkwoods   \n",
       "1          M4A        North York                             Victoria Village   \n",
       "2          M5A  Downtown Toronto                    Regent Park, Harbourfront   \n",
       "3          M6A        North York             Lawrence Manor, Lawrence Heights   \n",
       "4          M7A  Downtown Toronto  Queen's Park, Ontario Provincial Government   \n",
       "5          M9A         Etobicoke      Islington Avenue, Humber Valley Village   \n",
       "6          M1B       Scarborough                               Malvern, Rouge   \n",
       "7          M3B        North York                                    Don Mills   \n",
       "8          M4B         East York              Parkview Hill, Woodbine Gardens   \n",
       "9          M5B  Downtown Toronto                     Garden District, Ryerson   \n",
       "10         M6B        North York                                    Glencairn   \n",
       "\n",
       "     Latitude  Longitude  \n",
       "0   43.753259 -79.329656  \n",
       "1   43.725882 -79.315572  \n",
       "2   43.654260 -79.360636  \n",
       "3   43.718518 -79.464763  \n",
       "4   43.662301 -79.389494  \n",
       "5   43.667856 -79.532242  \n",
       "6   43.806686 -79.194353  \n",
       "7   43.745906 -79.352188  \n",
       "8   43.706397 -79.309937  \n",
       "9   43.657162 -79.378937  \n",
       "10  43.709577 -79.445073  "
      ]
     },
     "execution_count": 24,
     "metadata": {},
     "output_type": "execute_result"
    }
   ],
   "source": [
    "# myDfFull.loc[myDfFull['Postal Code'] == 'M9V']\n",
    "myDfFull.head(11)"
   ]
  }
 ],
 "metadata": {
  "kernelspec": {
   "display_name": "Python 3",
   "language": "python",
   "name": "python3"
  },
  "language_info": {
   "codemirror_mode": {
    "name": "ipython",
    "version": 3
   },
   "file_extension": ".py",
   "mimetype": "text/x-python",
   "name": "python",
   "nbconvert_exporter": "python",
   "pygments_lexer": "ipython3",
   "version": "3.7.6"
  }
 },
 "nbformat": 4,
 "nbformat_minor": 4
}
