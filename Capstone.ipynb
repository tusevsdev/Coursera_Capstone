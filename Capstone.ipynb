{
 "cells": [
  {
   "cell_type": "markdown",
   "metadata": {},
   "source": [
    "PART 1: BUILD DATA FRAME"
   ]
  },
  {
   "cell_type": "code",
   "execution_count": 1,
   "metadata": {},
   "outputs": [],
   "source": [
    "import pandas as pd\n",
    "import numpy as np"
   ]
  },
  {
   "cell_type": "code",
   "execution_count": 2,
   "metadata": {},
   "outputs": [],
   "source": [
    "#Scraping Data from wikipedia\n",
    "import requests # library to handle requests\n",
    "from bs4 import BeautifulSoup \n",
    "\n",
    "website_url = requests.get('https://en.wikipedia.org/wiki/List_of_postal_codes_of_Canada:_M').text\n",
    "soup = BeautifulSoup(website_url,'html.parser')\n",
    "#print(soup.prettify())"
   ]
  },
  {
   "cell_type": "code",
   "execution_count": 3,
   "metadata": {},
   "outputs": [
    {
     "name": "stdout",
     "output_type": "stream",
     "text": [
      "  Postal Code           Borough                                 Neighborhood\n",
      "0         M3A        North York                                    Parkwoods\n",
      "1         M4A        North York                             Victoria Village\n",
      "2         M5A  Downtown Toronto                    Regent Park, Harbourfront\n",
      "3         M6A        North York             Lawrence Manor, Lawrence Heights\n",
      "4         M7A  Downtown Toronto  Queen's Park, Ontario Provincial Government\n"
     ]
    }
   ],
   "source": [
    "# Get table\n",
    "mytable = soup.find('table',{'class':'wikitable sortable'})\n",
    "\n",
    "# Get headings\n",
    "ths = mytable.find_all('th')\n",
    "ths\n",
    "headings = [th.text.strip() for th in ths]\n",
    "\n",
    "# Get Rows into list\n",
    "trs = mytable.find_all('tr')\n",
    "mylist=[]\n",
    "\n",
    "for tr in mytable.find_all('tr'):\n",
    "    tds = tr.find_all('td')\n",
    "    aa = [td.text.strip() for td in tds]\n",
    "    mylist.append(aa)    \n",
    "del mylist[0]\n",
    "\n",
    "# Instantiate the dataframe\n",
    "mydf = pd.DataFrame(columns=headings)\n",
    "\n",
    "# Fill data frame\n",
    "for l in mylist:\n",
    "    pc=l[0]\n",
    "    bor=l[1]\n",
    "    neigh=l[2]\n",
    "    \n",
    "    mydf = mydf.append({'Postal Code': pc,\n",
    "                            'Borough': bor,\n",
    "                            'Neighborhood': neigh        \n",
    "                            }, ignore_index=True)\n",
    "\n",
    "# Clean Data\n",
    "mydf.replace('Not assigned', np.nan, inplace = True)\n",
    "mydf.dropna(subset = [\"Borough\"],inplace = True)\n",
    "mydf.reset_index(inplace = True)\n",
    "mydf.drop(['index'], axis=1, inplace = True)\n",
    "print(mydf.head())"
   ]
  },
  {
   "cell_type": "code",
   "execution_count": 4,
   "metadata": {},
   "outputs": [],
   "source": [
    "#mydf.loc[mydf['Postal Code'] == 'M9V']"
   ]
  },
  {
   "cell_type": "code",
   "execution_count": 5,
   "metadata": {},
   "outputs": [
    {
     "name": "stdout",
     "output_type": "stream",
     "text": [
      "Number of Rows: 103\n"
     ]
    }
   ],
   "source": [
    "print('Number of Rows: {}'.format(mydf.shape[0]))"
   ]
  }
 ],
 "metadata": {
  "kernelspec": {
   "display_name": "Python 3",
   "language": "python",
   "name": "python3"
  },
  "language_info": {
   "codemirror_mode": {
    "name": "ipython",
    "version": 3
   },
   "file_extension": ".py",
   "mimetype": "text/x-python",
   "name": "python",
   "nbconvert_exporter": "python",
   "pygments_lexer": "ipython3",
   "version": "3.7.6"
  }
 },
 "nbformat": 4,
 "nbformat_minor": 4
}
